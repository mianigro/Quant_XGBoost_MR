{
 "cells": [
  {
   "cell_type": "markdown",
   "id": "4c9885d6-74fb-43a8-a0e8-80d9da96c03d",
   "metadata": {},
   "source": [
    "## Data Wrangling\n",
    "\n",
    "***"
   ]
  },
  {
   "cell_type": "code",
   "execution_count": 2,
   "id": "0758142f-5140-439e-94ee-27b88d1b5542",
   "metadata": {},
   "outputs": [],
   "source": [
    "import sqlite3\n",
    "import pandas as pd\n",
    "import numpy as np\n",
    "import os\n",
    "import matplotlib.pyplot as plt"
   ]
  },
  {
   "cell_type": "markdown",
   "id": "e780755d-d1d3-42ca-9cc2-d0f20707ee20",
   "metadata": {},
   "source": [
    "### No ML Analyses"
   ]
  },
  {
   "cell_type": "code",
   "execution_count": 6,
   "id": "1d84c67d-39d8-4cf1-8dbd-714b204664b6",
   "metadata": {},
   "outputs": [
    {
     "name": "stdout",
     "output_type": "stream",
     "text": [
      "Total Profit:  206.53275000000664\n",
      "Mean Profit:  0.10184060650887902\n",
      "Winning Trades:  1251\n",
      "Losing Trades:  777\n",
      "Win Rate:  0.6168639053254438\n"
     ]
    },
    {
     "data": {
      "image/png": "[encoded data removed]",
      "text/plain": [
       "<Figure size 640x480 with 1 Axes>"
      ]
     },
     "metadata": {},
     "output_type": "display_data"
    }
   ],
   "source": [
    "# Get data\n",
    "conn1 = sqlite3.connect(\"XGBoost/Test_No_ML/ledger.db\")\n",
    "c1 = conn1.cursor()\n",
    "\n",
    "# Extract data\n",
    "c1.execute(\"\"\"SELECT * FROM tx_ledger WHERE status = 'CLOSED'\"\"\")\n",
    "trade_log = c1.fetchall()\n",
    "trade_log_df = pd.DataFrame(\n",
    "    trade_log, columns=[\"Pair\", \"Type\", \"Open Date\", \"Close Date\", \"Status\", \"Units 1\", \"Units 2\", \"ETH Vol\", \"BTC Vol\", \"Pair 1 Open\", \"Pair 2 Open\", \"Pair 1 Close\", \"Pair 2 Close\"]).drop([\"Open Date\", \"Close Date\"], axis=1)\n",
    "\n",
    "# Generate profit information\n",
    "trade_log_df[\"Profit\"] = np.where(\n",
    "    trade_log_df[\"Type\"] == \"Long\", \n",
    "    trade_log_df[\"Units 1\"] * trade_log_df[\"Pair 1 Close\"] - trade_log_df[\"Units 1\"] * trade_log_df[\"Pair 1 Open\"] + trade_log_df[\"Units 2\"] * trade_log_df[\"Pair 2 Close\"] - trade_log_df[\"Units 2\"] * trade_log_df[\"Pair 2 Open\"], \n",
    "    trade_log_df[\"Units 1\"] * trade_log_df[\"Pair 1 Open\"] - trade_log_df[\"Units 1\"] * trade_log_df[\"Pair 1 Close\"] + trade_log_df[\"Units 2\"] * trade_log_df[\"Pair 2 Open\"] - trade_log_df[\"Units 2\"] * trade_log_df[\"Pair 2 Close\"])\n",
    "trade_log_df[\"Profit\"].sum()\n",
    "\n",
    "# Report profit and graph\n",
    "print(\"Total Profit: \", trade_log_df[\"Profit\"].sum())\n",
    "print(\"Mean Profit: \", trade_log_df[\"Profit\"].mean())\n",
    "print(\"Winning Trades: \", len(trade_log_df[trade_log_df[\"Profit\"] > 0]))\n",
    "print(\"Losing Trades: \", len(trade_log_df[trade_log_df[\"Profit\"] < 0]))\n",
    "print(\"Win Rate: \", len(trade_log_df[trade_log_df[\"Profit\"] > 0]) / (len(trade_log_df[trade_log_df[\"Profit\"] > 0]) + len(trade_log_df[trade_log_df[\"Profit\"] < 0])))\n",
    "\n",
    "import matplotlib.pyplot as plt\n",
    "plt.hist(trade_log_df[trade_log_df[\"Profit\"] != 0][\"Profit\"], bins=60)\n",
    "plt.show()"
   ]
  },
  {
   "cell_type": "markdown",
   "id": "8d182c8a-50c5-4f12-a6c3-688bb1c0b810",
   "metadata": {},
   "source": [
    "### With ML Analyses"
   ]
  },
  {
   "cell_type": "code",
   "execution_count": 5,
   "id": "ea0fa0b2-7b23-4ef7-baec-8550ed549f77",
   "metadata": {},
   "outputs": [
    {
     "name": "stdout",
     "output_type": "stream",
     "text": [
      "Total Profit:  326.6126100000048\n",
      "Mean Profit:  0.20025297976701703\n",
      "Winning Trades:  1014\n",
      "Losing Trades:  617\n",
      "Win Rate:  0.621704475781729\n"
     ]
    },
    {
     "data": {
      "image/png": "[encoded data removed]",
      "text/plain": [
       "<Figure size 640x480 with 1 Axes>"
      ]
     },
     "metadata": {},
     "output_type": "display_data"
    }
   ],
   "source": [
    "# Get data\n",
    "conn2 = sqlite3.connect(\"XGBoost/Test_With_ML/ledger.db\")\n",
    "c2 = conn2.cursor()\n",
    "\n",
    "# Extract data\n",
    "c2.execute(\"\"\"SELECT * FROM tx_ledger WHERE status = 'CLOSED'\"\"\")\n",
    "trade_log = c2.fetchall()\n",
    "trade_log_df = pd.DataFrame(\n",
    "    trade_log, columns=[\"Pair\", \"Type\", \"Open Date\", \"Close Date\", \"Status\", \"Units 1\", \"Units 2\", \"ETH Vol\", \"BTC Vol\", \"Pair 1 Open\", \"Pair 2 Open\", \"Pair 1 Close\", \"Pair 2 Close\"]).drop([\"Open Date\", \"Close Date\"], axis=1)\n",
    "\n",
    "# Generate profit information\n",
    "trade_log_df[\"Profit\"] = np.where(\n",
    "    trade_log_df[\"Type\"] == \"Long\", \n",
    "    trade_log_df[\"Units 1\"] * trade_log_df[\"Pair 1 Close\"] - trade_log_df[\"Units 1\"] * trade_log_df[\"Pair 1 Open\"] + trade_log_df[\"Units 2\"] * trade_log_df[\"Pair 2 Close\"] - trade_log_df[\"Units 2\"] * trade_log_df[\"Pair 2 Open\"], \n",
    "    trade_log_df[\"Units 1\"] * trade_log_df[\"Pair 1 Open\"] - trade_log_df[\"Units 1\"] * trade_log_df[\"Pair 1 Close\"] + trade_log_df[\"Units 2\"] * trade_log_df[\"Pair 2 Open\"] - trade_log_df[\"Units 2\"] * trade_log_df[\"Pair 2 Close\"])\n",
    "trade_log_df[\"Profit\"].sum()\n",
    "\n",
    "# Report profit and graph\n",
    "print(\"Total Profit: \", trade_log_df[\"Profit\"].sum())\n",
    "print(\"Mean Profit: \", trade_log_df[\"Profit\"].mean())\n",
    "print(\"Winning Trades: \", len(trade_log_df[trade_log_df[\"Profit\"] > 0]))\n",
    "print(\"Losing Trades: \", len(trade_log_df[trade_log_df[\"Profit\"] < 0]))\n",
    "print(\"Win Rate: \", len(trade_log_df[trade_log_df[\"Profit\"] > 0]) / (len(trade_log_df[trade_log_df[\"Profit\"] > 0]) + len(trade_log_df[trade_log_df[\"Profit\"] < 0])))\n",
    "\n",
    "\n",
    "import matplotlib.pyplot as plt\n",
    "plt.hist(trade_log_df[trade_log_df[\"Profit\"] != 0][\"Profit\"], bins=60)\n",
    "plt.show()"
   ]
  },
  {
   "cell_type": "code",
   "execution_count": null,
   "id": "fc2dfd21-3ab4-4df7-95dc-c13e8d46c782",
   "metadata": {},
   "outputs": [],
   "source": []
  }
 ],
 "metadata": {
  "kernelspec": {
   "display_name": "Python 3 (ipykernel)",
   "language": "python",
   "name": "python3"
  },
  "language_info": {
   "codemirror_mode": {
    "name": "ipython",
    "version": 3
   },
   "file_extension": ".py",
   "mimetype": "text/x-python",
   "name": "python",
   "nbconvert_exporter": "python",
   "pygments_lexer": "ipython3",
   "version": "3.10.8"
  }
 },
 "nbformat": 4,
 "nbformat_minor": 5
}
